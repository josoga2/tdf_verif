{
 "cells": [
  {
   "cell_type": "code",
   "execution_count": 1,
   "metadata": {},
   "outputs": [],
   "source": [
    "import pandas as pd"
   ]
  },
  {
   "cell_type": "code",
   "execution_count": 27,
   "metadata": {},
   "outputs": [
    {
     "name": "stdout",
     "output_type": "stream",
     "text": [
      "GSM2188871_S2_rep2.ghits.pkbin.net.txt\n"
     ]
    }
   ],
   "source": [
    "data = input()\n",
    "grid = pd.read_csv(data, sep='\\t', header=None)"
   ]
  },
  {
   "cell_type": "code",
   "execution_count": 30,
   "metadata": {},
   "outputs": [
    {
     "data": {
      "text/plain": [
       "(112768, 9)"
      ]
     },
     "execution_count": 30,
     "metadata": {},
     "output_type": "execute_result"
    }
   ],
   "source": [
    "grid.shape"
   ]
  },
  {
   "cell_type": "code",
   "execution_count": 28,
   "metadata": {},
   "outputs": [],
   "source": [
    "grid.columns = ['chr_RNA','start_RNA','end_RNA','gene_ID','unk', 'strand','chr_DNA','genomic_POS','val']"
   ]
  },
  {
   "cell_type": "code",
   "execution_count": 29,
   "metadata": {},
   "outputs": [
    {
     "data": {
      "text/html": [
       "<div>\n",
       "<style scoped>\n",
       "    .dataframe tbody tr th:only-of-type {\n",
       "        vertical-align: middle;\n",
       "    }\n",
       "\n",
       "    .dataframe tbody tr th {\n",
       "        vertical-align: top;\n",
       "    }\n",
       "\n",
       "    .dataframe thead th {\n",
       "        text-align: right;\n",
       "    }\n",
       "</style>\n",
       "<table border=\"1\" class=\"dataframe\">\n",
       "  <thead>\n",
       "    <tr style=\"text-align: right;\">\n",
       "      <th></th>\n",
       "      <th>chr_RNA</th>\n",
       "      <th>start_RNA</th>\n",
       "      <th>end_RNA</th>\n",
       "      <th>gene_ID</th>\n",
       "      <th>unk</th>\n",
       "      <th>strand</th>\n",
       "      <th>chr_DNA</th>\n",
       "      <th>genomic_POS</th>\n",
       "      <th>val</th>\n",
       "    </tr>\n",
       "  </thead>\n",
       "  <tbody>\n",
       "    <tr>\n",
       "      <td>0</td>\n",
       "      <td>chr2L</td>\n",
       "      <td>9839</td>\n",
       "      <td>21376</td>\n",
       "      <td>FBgn0002121</td>\n",
       "      <td>3670</td>\n",
       "      <td>-</td>\n",
       "      <td>chr2L</td>\n",
       "      <td>0</td>\n",
       "      <td>9.54898</td>\n",
       "    </tr>\n",
       "    <tr>\n",
       "      <td>1</td>\n",
       "      <td>chr2L</td>\n",
       "      <td>9839</td>\n",
       "      <td>21376</td>\n",
       "      <td>FBgn0002121</td>\n",
       "      <td>3670</td>\n",
       "      <td>-</td>\n",
       "      <td>chr2L</td>\n",
       "      <td>1000</td>\n",
       "      <td>16.13130</td>\n",
       "    </tr>\n",
       "    <tr>\n",
       "      <td>2</td>\n",
       "      <td>chr2L</td>\n",
       "      <td>9839</td>\n",
       "      <td>21376</td>\n",
       "      <td>FBgn0002121</td>\n",
       "      <td>3670</td>\n",
       "      <td>-</td>\n",
       "      <td>chr2L</td>\n",
       "      <td>2000</td>\n",
       "      <td>23.53030</td>\n",
       "    </tr>\n",
       "    <tr>\n",
       "      <td>3</td>\n",
       "      <td>chr2L</td>\n",
       "      <td>9839</td>\n",
       "      <td>21376</td>\n",
       "      <td>FBgn0002121</td>\n",
       "      <td>3670</td>\n",
       "      <td>-</td>\n",
       "      <td>chr2L</td>\n",
       "      <td>3000</td>\n",
       "      <td>32.33130</td>\n",
       "    </tr>\n",
       "    <tr>\n",
       "      <td>4</td>\n",
       "      <td>chr2L</td>\n",
       "      <td>9839</td>\n",
       "      <td>21376</td>\n",
       "      <td>FBgn0002121</td>\n",
       "      <td>3670</td>\n",
       "      <td>-</td>\n",
       "      <td>chr2L</td>\n",
       "      <td>4000</td>\n",
       "      <td>43.52430</td>\n",
       "    </tr>\n",
       "  </tbody>\n",
       "</table>\n",
       "</div>"
      ],
      "text/plain": [
       "  chr_RNA  start_RNA  end_RNA      gene_ID   unk strand chr_DNA  genomic_POS  \\\n",
       "0   chr2L       9839    21376  FBgn0002121  3670      -   chr2L            0   \n",
       "1   chr2L       9839    21376  FBgn0002121  3670      -   chr2L         1000   \n",
       "2   chr2L       9839    21376  FBgn0002121  3670      -   chr2L         2000   \n",
       "3   chr2L       9839    21376  FBgn0002121  3670      -   chr2L         3000   \n",
       "4   chr2L       9839    21376  FBgn0002121  3670      -   chr2L         4000   \n",
       "\n",
       "        val  \n",
       "0   9.54898  \n",
       "1  16.13130  \n",
       "2  23.53030  \n",
       "3  32.33130  \n",
       "4  43.52430  "
      ]
     },
     "execution_count": 29,
     "metadata": {},
     "output_type": "execute_result"
    }
   ],
   "source": [
    "grid.head()"
   ]
  },
  {
   "cell_type": "code",
   "execution_count": 31,
   "metadata": {},
   "outputs": [
    {
     "data": {
      "text/plain": [
       "False"
      ]
     },
     "execution_count": 31,
     "metadata": {},
     "output_type": "execute_result"
    }
   ],
   "source": [
    "33298573 in grid['start_RNA']"
   ]
  },
  {
   "cell_type": "code",
   "execution_count": 32,
   "metadata": {},
   "outputs": [
    {
     "data": {
      "text/plain": [
       "False"
      ]
     },
     "execution_count": 32,
     "metadata": {},
     "output_type": "execute_result"
    }
   ],
   "source": [
    "33303358 in grid['end_RNA']"
   ]
  },
  {
   "cell_type": "code",
   "execution_count": 94,
   "metadata": {},
   "outputs": [],
   "source": [
    "A = pd.DataFrame(grid['start_RNA'])\n",
    "B = pd.DataFrame(grid['end_RNA'])\n",
    "\n",
    "M_full = pd.concat([A,B], sort=False, ignore_index=True, axis=1)"
   ]
  },
  {
   "cell_type": "code",
   "execution_count": 87,
   "metadata": {},
   "outputs": [
    {
     "data": {
      "text/html": [
       "<div>\n",
       "<style scoped>\n",
       "    .dataframe tbody tr th:only-of-type {\n",
       "        vertical-align: middle;\n",
       "    }\n",
       "\n",
       "    .dataframe tbody tr th {\n",
       "        vertical-align: top;\n",
       "    }\n",
       "\n",
       "    .dataframe thead th {\n",
       "        text-align: right;\n",
       "    }\n",
       "</style>\n",
       "<table border=\"1\" class=\"dataframe\">\n",
       "  <thead>\n",
       "    <tr style=\"text-align: right;\">\n",
       "      <th></th>\n",
       "      <th>0</th>\n",
       "      <th>1</th>\n",
       "    </tr>\n",
       "  </thead>\n",
       "  <tbody>\n",
       "    <tr>\n",
       "      <td>107386</td>\n",
       "      <td>11473089</td>\n",
       "      <td>11474465</td>\n",
       "    </tr>\n",
       "    <tr>\n",
       "      <td>25316</td>\n",
       "      <td>6369712</td>\n",
       "      <td>6430794</td>\n",
       "    </tr>\n",
       "    <tr>\n",
       "      <td>94394</td>\n",
       "      <td>3401278</td>\n",
       "      <td>3465682</td>\n",
       "    </tr>\n",
       "    <tr>\n",
       "      <td>67228</td>\n",
       "      <td>5363876</td>\n",
       "      <td>5377528</td>\n",
       "    </tr>\n",
       "    <tr>\n",
       "      <td>63212</td>\n",
       "      <td>1095838</td>\n",
       "      <td>1176165</td>\n",
       "    </tr>\n",
       "  </tbody>\n",
       "</table>\n",
       "</div>"
      ],
      "text/plain": [
       "               0         1\n",
       "107386  11473089  11474465\n",
       "25316    6369712   6430794\n",
       "94394    3401278   3465682\n",
       "67228    5363876   5377528\n",
       "63212    1095838   1176165"
      ]
     },
     "execution_count": 87,
     "metadata": {},
     "output_type": "execute_result"
    }
   ],
   "source": [
    "M_full.sample(5)"
   ]
  },
  {
   "cell_type": "code",
   "execution_count": 88,
   "metadata": {},
   "outputs": [],
   "source": [
    "#m_sub = M.iloc[0:100, ]"
   ]
  },
  {
   "cell_type": "code",
   "execution_count": 89,
   "metadata": {},
   "outputs": [
    {
     "data": {
      "text/html": [
       "<div>\n",
       "<style scoped>\n",
       "    .dataframe tbody tr th:only-of-type {\n",
       "        vertical-align: middle;\n",
       "    }\n",
       "\n",
       "    .dataframe tbody tr th {\n",
       "        vertical-align: top;\n",
       "    }\n",
       "\n",
       "    .dataframe thead th {\n",
       "        text-align: right;\n",
       "    }\n",
       "</style>\n",
       "<table border=\"1\" class=\"dataframe\">\n",
       "  <thead>\n",
       "    <tr style=\"text-align: right;\">\n",
       "      <th></th>\n",
       "      <th>0</th>\n",
       "      <th>1</th>\n",
       "    </tr>\n",
       "  </thead>\n",
       "  <tbody>\n",
       "    <tr>\n",
       "      <td>0</td>\n",
       "      <td>9839</td>\n",
       "      <td>21376</td>\n",
       "    </tr>\n",
       "    <tr>\n",
       "      <td>1</td>\n",
       "      <td>9839</td>\n",
       "      <td>21376</td>\n",
       "    </tr>\n",
       "    <tr>\n",
       "      <td>2</td>\n",
       "      <td>9839</td>\n",
       "      <td>21376</td>\n",
       "    </tr>\n",
       "    <tr>\n",
       "      <td>3</td>\n",
       "      <td>9839</td>\n",
       "      <td>21376</td>\n",
       "    </tr>\n",
       "    <tr>\n",
       "      <td>4</td>\n",
       "      <td>9839</td>\n",
       "      <td>21376</td>\n",
       "    </tr>\n",
       "    <tr>\n",
       "      <td>...</td>\n",
       "      <td>...</td>\n",
       "      <td>...</td>\n",
       "    </tr>\n",
       "    <tr>\n",
       "      <td>95</td>\n",
       "      <td>9839</td>\n",
       "      <td>21376</td>\n",
       "    </tr>\n",
       "    <tr>\n",
       "      <td>96</td>\n",
       "      <td>9839</td>\n",
       "      <td>21376</td>\n",
       "    </tr>\n",
       "    <tr>\n",
       "      <td>97</td>\n",
       "      <td>9839</td>\n",
       "      <td>21376</td>\n",
       "    </tr>\n",
       "    <tr>\n",
       "      <td>98</td>\n",
       "      <td>9839</td>\n",
       "      <td>21376</td>\n",
       "    </tr>\n",
       "    <tr>\n",
       "      <td>99</td>\n",
       "      <td>9839</td>\n",
       "      <td>21376</td>\n",
       "    </tr>\n",
       "  </tbody>\n",
       "</table>\n",
       "<p>100 rows × 2 columns</p>\n",
       "</div>"
      ],
      "text/plain": [
       "       0      1\n",
       "0   9839  21376\n",
       "1   9839  21376\n",
       "2   9839  21376\n",
       "3   9839  21376\n",
       "4   9839  21376\n",
       "..   ...    ...\n",
       "95  9839  21376\n",
       "96  9839  21376\n",
       "97  9839  21376\n",
       "98  9839  21376\n",
       "99  9839  21376\n",
       "\n",
       "[100 rows x 2 columns]"
      ]
     },
     "execution_count": 89,
     "metadata": {},
     "output_type": "execute_result"
    }
   ],
   "source": [
    "#m_sub"
   ]
  },
  {
   "cell_type": "code",
   "execution_count": null,
   "metadata": {},
   "outputs": [],
   "source": []
  },
  {
   "cell_type": "code",
   "execution_count": 90,
   "metadata": {},
   "outputs": [
    {
     "name": "stderr",
     "output_type": "stream",
     "text": [
      "/home/josoga2/anaconda3/lib/python3.7/site-packages/ipykernel_launcher.py:4: SettingWithCopyWarning: \n",
      "A value is trying to be set on a copy of a slice from a DataFrame.\n",
      "Try using .loc[row_indexer,col_indexer] = value instead\n",
      "\n",
      "See the caveats in the documentation: http://pandas.pydata.org/pandas-docs/stable/user_guide/indexing.html#returning-a-view-versus-a-copy\n",
      "  after removing the cwd from sys.path.\n"
     ]
    }
   ],
   "source": [
    "for i,j in M_full.values:\n",
    "    ranger = list(range(i,j+1))\n",
    "    if 33298573 in ranger:\n",
    "        M_full['lnc'] = 'ecCEBPA'\n",
    "    else:\n",
    "        M_full['lnc'] = None"
   ]
  },
  {
   "cell_type": "code",
   "execution_count": 95,
   "metadata": {},
   "outputs": [
    {
     "data": {
      "text/html": [
       "<div>\n",
       "<style scoped>\n",
       "    .dataframe tbody tr th:only-of-type {\n",
       "        vertical-align: middle;\n",
       "    }\n",
       "\n",
       "    .dataframe tbody tr th {\n",
       "        vertical-align: top;\n",
       "    }\n",
       "\n",
       "    .dataframe thead th {\n",
       "        text-align: right;\n",
       "    }\n",
       "</style>\n",
       "<table border=\"1\" class=\"dataframe\">\n",
       "  <thead>\n",
       "    <tr style=\"text-align: right;\">\n",
       "      <th></th>\n",
       "      <th>0</th>\n",
       "      <th>1</th>\n",
       "    </tr>\n",
       "  </thead>\n",
       "  <tbody>\n",
       "    <tr>\n",
       "      <td>0</td>\n",
       "      <td>9839</td>\n",
       "      <td>21376</td>\n",
       "    </tr>\n",
       "    <tr>\n",
       "      <td>1</td>\n",
       "      <td>9839</td>\n",
       "      <td>21376</td>\n",
       "    </tr>\n",
       "    <tr>\n",
       "      <td>2</td>\n",
       "      <td>9839</td>\n",
       "      <td>21376</td>\n",
       "    </tr>\n",
       "    <tr>\n",
       "      <td>3</td>\n",
       "      <td>9839</td>\n",
       "      <td>21376</td>\n",
       "    </tr>\n",
       "    <tr>\n",
       "      <td>4</td>\n",
       "      <td>9839</td>\n",
       "      <td>21376</td>\n",
       "    </tr>\n",
       "    <tr>\n",
       "      <td>5</td>\n",
       "      <td>9839</td>\n",
       "      <td>21376</td>\n",
       "    </tr>\n",
       "    <tr>\n",
       "      <td>6</td>\n",
       "      <td>9839</td>\n",
       "      <td>21376</td>\n",
       "    </tr>\n",
       "    <tr>\n",
       "      <td>7</td>\n",
       "      <td>9839</td>\n",
       "      <td>21376</td>\n",
       "    </tr>\n",
       "    <tr>\n",
       "      <td>8</td>\n",
       "      <td>9839</td>\n",
       "      <td>21376</td>\n",
       "    </tr>\n",
       "    <tr>\n",
       "      <td>9</td>\n",
       "      <td>9839</td>\n",
       "      <td>21376</td>\n",
       "    </tr>\n",
       "  </tbody>\n",
       "</table>\n",
       "</div>"
      ],
      "text/plain": [
       "      0      1\n",
       "0  9839  21376\n",
       "1  9839  21376\n",
       "2  9839  21376\n",
       "3  9839  21376\n",
       "4  9839  21376\n",
       "5  9839  21376\n",
       "6  9839  21376\n",
       "7  9839  21376\n",
       "8  9839  21376\n",
       "9  9839  21376"
      ]
     },
     "execution_count": 95,
     "metadata": {},
     "output_type": "execute_result"
    }
   ],
   "source": [
    "M_full.sample(10)\n",
    "\n",
    "M_full.to_csv(M_full.csv, header=None)"
   ]
  },
  {
   "cell_type": "code",
   "execution_count": null,
   "metadata": {},
   "outputs": [],
   "source": []
  }
 ],
 "metadata": {
  "kernelspec": {
   "display_name": "Python 3",
   "language": "python",
   "name": "python3"
  },
  "language_info": {
   "codemirror_mode": {
    "name": "ipython",
    "version": 3
   },
   "file_extension": ".py",
   "mimetype": "text/x-python",
   "name": "python",
   "nbconvert_exporter": "python",
   "pygments_lexer": "ipython3",
   "version": "3.7.4"
  }
 },
 "nbformat": 4,
 "nbformat_minor": 2
}
